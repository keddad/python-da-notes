{
 "cells": [
  {
   "cell_type": "code",
   "execution_count": 1,
   "metadata": {},
   "outputs": [],
   "source": [
    "from scipy import linalg\n",
    "from scipy import optimize\n",
    "import numpy as np\n",
    "import matplotlib.pyplot as plt"
   ]
  },
  {
   "cell_type": "code",
   "execution_count": 18,
   "metadata": {},
   "outputs": [
    {
     "name": "stdout",
     "output_type": "stream",
     "text": [
      "[[ 1 -1 -1  0]\n",
      " [-1  2 -1 -1]\n",
      " [-1 -1  2 -1]\n",
      " [ 0 -1 -1  1]]\n"
     ]
    }
   ],
   "source": [
    "A = np.array(\n",
    "    [\n",
    "        [1, -1, -1, 0],\n",
    "        [-1, 2, -1, -1],\n",
    "        [-1, -1, 2, -1],\n",
    "        [0, -1, -1, 1]\n",
    "    ]\n",
    ")\n",
    "print(A)"
   ]
  },
  {
   "cell_type": "code",
   "execution_count": 4,
   "metadata": {},
   "outputs": [
    {
     "data": {
      "text/plain": [
       "0.4026485203380329"
      ]
     },
     "execution_count": 4,
     "metadata": {},
     "output_type": "execute_result"
    }
   ],
   "source": [
    "linalg.det(A) # Вычисление детерминанты матрицы"
   ]
  },
  {
   "cell_type": "code",
   "execution_count": 22,
   "metadata": {},
   "outputs": [
    {
     "name": "stdout",
     "output_type": "stream",
     "text": [
      "[[-0.6   0.4   1.6  -0.6  -0.1 ]\n",
      " [ 0.9  -0.6  -1.9   0.4   0.65]\n",
      " [-1.7   1.8   2.7  -0.2  -1.45]\n",
      " [-0.7   0.8   1.7  -0.2  -0.95]\n",
      " [ 1.4  -1.6  -2.4   0.4   1.4 ]]\n"
     ]
    }
   ],
   "source": [
    "B = np.array(\n",
    "[\n",
    "    [2, 4, 0, 4, 1],\n",
    "    [2, 4, 1, 1, 0],\n",
    "    [1, 1, 1, 2, 2],\n",
    "    [0, 1, 3, 2, 4],\n",
    "    [2, 2, 2, 0, 2]\n",
    "]\n",
    ")\n",
    "B_inv = linalg.inv(B) # Вычисление обратной матрицы\n",
    "print(B_inv)"
   ]
  },
  {
   "cell_type": "code",
   "execution_count": 23,
   "metadata": {},
   "outputs": [
    {
     "name": "stdout",
     "output_type": "stream",
     "text": [
      "2.7\n"
     ]
    }
   ],
   "source": [
    "print(\n",
    "    sum(\n",
    "       np.diagonal(\n",
    "           B_inv\n",
    "       ) \n",
    "    )\n",
    ") # Поиск следа обратной матрицы, суммы элементов главной диагонали"
   ]
  },
  {
   "cell_type": "code",
   "execution_count": 19,
   "metadata": {},
   "outputs": [
    {
     "name": "stdout",
     "output_type": "stream",
     "text": [
      "[-1.+0.j  1.+0.j  3.+0.j  3.+0.j]\n",
      "[[ 5.00000000e-01  7.07106781e-01  5.00000000e-01 -7.48638037e-02]\n",
      " [ 5.00000000e-01 -7.41300922e-17 -5.00000000e-01 -6.24271964e-01]\n",
      " [ 5.00000000e-01  9.23842745e-17 -5.00000000e-01  7.73999571e-01]\n",
      " [ 5.00000000e-01 -7.07106781e-01  5.00000000e-01 -7.48638037e-02]]\n"
     ]
    }
   ],
   "source": [
    "eigenvalues, eigenvectors = linalg.eig(A)\n",
    "print(eigenvalues)\n",
    "print(eigenvectors)"
   ]
  },
  {
   "cell_type": "code",
   "execution_count": 11,
   "metadata": {},
   "outputs": [],
   "source": [
    "def f(x):\n",
    "    return x**2+6*np.sin(x)"
   ]
  },
  {
   "cell_type": "code",
   "execution_count": 16,
   "metadata": {},
   "outputs": [
    {
     "data": {
      "image/png": "[encoded data removed]",
      "text/plain": [
       "<Figure size 432x288 with 1 Axes>"
      ]
     },
     "metadata": {
      "needs_background": "light"
     },
     "output_type": "display_data"
    }
   ],
   "source": [
    "x = np.arange(-10, 10, 0.1) # Набор значений от -10 до 10 с шагом 0.1\n",
    "plt.plot(x, f(x)) # График вида x : f(x)\n",
    "plt.show()"
   ]
  },
  {
   "cell_type": "code",
   "execution_count": 17,
   "metadata": {},
   "outputs": [
    {
     "data": {
      "text/plain": [
       "      fun: -4.15560364145581\n",
       " hess_inv: array([[0.13294183]])\n",
       "      jac: array([-5.96046448e-08])\n",
       "  message: 'Optimization terminated successfully.'\n",
       "     nfev: 18\n",
       "      nit: 5\n",
       "     njev: 6\n",
       "   status: 0\n",
       "  success: True\n",
       "        x: array([-1.17012097])"
      ]
     },
     "execution_count": 17,
     "metadata": {},
     "output_type": "execute_result"
    }
   ],
   "source": [
    "optimize.minimize(f, x0=0) # Вычисление глобального минимума функции (на самом деле локального, просто совпало)"
   ]
  },
  {
   "cell_type": "code",
   "execution_count": null,
   "metadata": {},
   "outputs": [],
   "source": [
    "optimize.minimize(f, x0=0) # Локальный минимум"
   ]
  }
 ],
 "metadata": {
  "kernelspec": {
   "display_name": "Python 3",
   "language": "python",
   "name": "python3"
  },
  "language_info": {
   "codemirror_mode": {
    "name": "ipython",
    "version": 3
   },
   "file_extension": ".py",
   "mimetype": "text/x-python",
   "name": "python",
   "nbconvert_exporter": "python",
   "pygments_lexer": "ipython3",
   "version": "3.7.3"
  }
 },
 "nbformat": 4,
 "nbformat_minor": 2
}
