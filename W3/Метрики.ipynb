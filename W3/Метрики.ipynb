{
 "cells": [
  {
   "cell_type": "markdown",
   "metadata": {},
   "source": [
    "# Метрики и разбиение данных"
   ]
  },
  {
   "cell_type": "code",
   "execution_count": 1,
   "metadata": {
    "collapsed": false
   },
   "outputs": [
    {
     "name": "stdout",
     "output_type": "stream",
     "text": [
      "Accuracy: 0.96\n"
     ]
    }
   ],
   "source": [
    "from sklearn import datasets\n",
    "from sklearn import metrics\n",
    "from sklearn.linear_model import LogisticRegression\n",
    "\n",
    "\n",
    "cancer = datasets.load_breast_cancer()\n",
    "logistic_regression = LogisticRegression()\n",
    "model = logistic_regression.fit(cancer.data, cancer.target)\n",
    "\n",
    "print('Accuracy: {:.2f}'.format(model.score(cancer.data, cancer.target)))"
   ]
  },
  {
   "cell_type": "code",
   "execution_count": 2,
   "metadata": {
    "collapsed": false
   },
   "outputs": [
    {
     "name": "stdout",
     "output_type": "stream",
     "text": [
      "Accuracy: 0.96\n",
      "ROC AUC: 0.95\n",
      "F1: 0.97\n"
     ]
    }
   ],
   "source": [
    "predictions = model.predict(cancer.data)\n",
    "\n",
    "print('Accuracy: {:.2f}'.format(metrics.accuracy_score(cancer.target, predictions)))\n",
    "print('ROC AUC: {:.2f}'.format(metrics.roc_auc_score(cancer.target, predictions)))\n",
    "print('F1: {:.2f}'.format(metrics.f1_score(cancer.target, predictions)))"
   ]
  },
  {
   "cell_type": "code",
   "execution_count": null,
   "metadata": {
    "collapsed": true
   },
   "outputs": [],
   "source": []
  },
  {
   "cell_type": "code",
   "execution_count": 3,
   "metadata": {
    "collapsed": true
   },
   "outputs": [],
   "source": [
    "from sklearn.model_selection import train_test_split"
   ]
  },
  {
   "cell_type": "code",
   "execution_count": 4,
   "metadata": {
    "collapsed": false
   },
   "outputs": [
    {
     "name": "stdout",
     "output_type": "stream",
     "text": [
      "Train accuracy: 0.96\n",
      "Test accuracy: 0.94\n"
     ]
    }
   ],
   "source": [
    "x_train, x_test, y_train, y_test = train_test_split(\n",
    "    cancer.data, cancer.target,\n",
    "    test_size=0.2, random_state=12\n",
    ")\n",
    "model = logistic_regression.fit(x_train, y_train)\n",
    "\n",
    "print('Train accuracy: {:.2f}'.format(model.score(x_train, y_train)))\n",
    "print('Test accuracy: {:.2f}'.format(model.score(x_test, y_test)))"
   ]
  },
  {
   "cell_type": "code",
   "execution_count": null,
   "metadata": {
    "collapsed": false
   },
   "outputs": [],
   "source": []
  },
  {
   "cell_type": "code",
   "execution_count": 5,
   "metadata": {
    "collapsed": false
   },
   "outputs": [
    {
     "name": "stdout",
     "output_type": "stream",
     "text": [
      "<class 'sklearn.linear_model.coordinate_descent.Lasso'>\n",
      "MSE: 0.11\n",
      "\n",
      "<class 'sklearn.linear_model.ridge.Ridge'>\n",
      "MSE: 0.06\n",
      "\n",
      "<class 'sklearn.linear_model.coordinate_descent.ElasticNet'>\n",
      "MSE: 0.10\n",
      "\n"
     ]
    }
   ],
   "source": [
    "from sklearn.linear_model import Lasso, Ridge, ElasticNet\n",
    "\n",
    "boston = datasets.load_boston()\n",
    "\n",
    "lasso = Lasso()\n",
    "ridge = Ridge()\n",
    "elastic = ElasticNet()\n",
    "\n",
    "for model in [lasso, ridge, elastic]:\n",
    "    x_train, x_test, y_train, y_test = train_test_split(\n",
    "        cancer.data, cancer.target,\n",
    "        test_size=0.2\n",
    "    )\n",
    "    model.fit(x_train, y_train)\n",
    "\n",
    "    predictions = model.predict(x_test)\n",
    "    print(model.__class__)\n",
    "    print('MSE: {:.2f}\\n'.format(metrics.mean_squared_error(y_test, predictions)))"
   ]
  },
  {
   "cell_type": "code",
   "execution_count": 6,
   "metadata": {
    "collapsed": false
   },
   "outputs": [
    {
     "name": "stdout",
     "output_type": "stream",
     "text": [
      "R2: 0.58\n",
      "R2: 0.58\n"
     ]
    }
   ],
   "source": [
    "print('R2: {:.2f}'.format(model.score(x_test, y_test)))\n",
    "print('R2: {:.2f}'.format(metrics.r2_score(y_test, predictions)))"
   ]
  },
  {
   "cell_type": "markdown",
   "metadata": {},
   "source": [
    "# Кросс-валидация"
   ]
  },
  {
   "cell_type": "code",
   "execution_count": 7,
   "metadata": {
    "collapsed": false
   },
   "outputs": [
    {
     "data": {
      "text/plain": [
       "dict_keys(['data', 'target', 'target_names', 'DESCR', 'feature_names'])"
      ]
     },
     "execution_count": 7,
     "metadata": {},
     "output_type": "execute_result"
    }
   ],
   "source": [
    "from sklearn.model_selection import KFold, cross_val_score\n",
    "\n",
    "iris = datasets.load_iris()\n",
    "iris.keys()"
   ]
  },
  {
   "cell_type": "code",
   "execution_count": 8,
   "metadata": {
    "collapsed": false
   },
   "outputs": [
    {
     "name": "stdout",
     "output_type": "stream",
     "text": [
      "Iris Plants Database\n",
      "====================\n",
      "\n",
      "Notes\n",
      "-----\n",
      "Data Set Characteristics:\n",
      "    :Number of Instances: 150 (50 in each of three classes)\n",
      "    :Number of Attributes: 4 numeric, predictive attributes and the class\n",
      "    :Attribute Information:\n",
      "        - sepal length in cm\n",
      "        - sepal width in cm\n",
      "        - petal length in cm\n",
      "        - petal width in cm\n",
      "        - class:\n",
      "                - Iris-Setosa\n",
      "                - Iris-Versicolour\n",
      "                - Iris-Virginica\n",
      "   \n"
     ]
    }
   ],
   "source": [
    "print(iris.DESCR[:475])"
   ]
  },
  {
   "cell_type": "code",
   "execution_count": 9,
   "metadata": {
    "collapsed": false
   },
   "outputs": [
    {
     "name": "stdout",
     "output_type": "stream",
     "text": [
      "Split 0 Score: 1.00\n",
      "Split 1 Score: 0.93\n",
      "Split 2 Score: 0.43\n",
      "Split 3 Score: 0.97\n",
      "Split 4 Score: 0.43\n"
     ]
    }
   ],
   "source": [
    "logistic_regression = LogisticRegression()\n",
    "cv = KFold(n_splits=5)  # +StratifiedKFold\n",
    "\n",
    "for split_idx, (train_idx, test_idx) in enumerate(cv.split(iris.data)):\n",
    "    x_train, x_test = iris.data[train_idx], iris.data[test_idx]\n",
    "    y_train, y_test = iris.target[train_idx], iris.target[test_idx]\n",
    "\n",
    "    logistic_regression.fit(x_train, y_train)\n",
    "    score = logistic_regression.score(x_test, y_test)\n",
    "    print('Split {} Score: {:.2f}'.format(split_idx, score))"
   ]
  },
  {
   "cell_type": "code",
   "execution_count": 10,
   "metadata": {
    "collapsed": false
   },
   "outputs": [
    {
     "name": "stdout",
     "output_type": "stream",
     "text": [
      "Cross val score: [ 1.          0.93333333  0.43333333  0.96666667  0.43333333]\n",
      "Mean cross val score: 0.75\n"
     ]
    }
   ],
   "source": [
    "cv_score = cross_val_score(\n",
    "    logistic_regression, iris.data, iris.target,\n",
    "    scoring='accuracy', cv=cv\n",
    ")\n",
    "\n",
    "print('Cross val score: {}'.format(cv_score))\n",
    "print('Mean cross val score: {:.2f}'.format(cv_score.mean()))"
   ]
  }
 ],
 "metadata": {
  "kernelspec": {
   "display_name": "Python 3",
   "language": "python",
   "name": "python3"
  },
  "language_info": {
   "codemirror_mode": {
    "name": "ipython",
    "version": 3
   },
   "file_extension": ".py",
   "mimetype": "text/x-python",
   "name": "python",
   "nbconvert_exporter": "python",
   "pygments_lexer": "ipython3",
   "version": "3.6.0"
  }
 },
 "nbformat": 4,
 "nbformat_minor": 2
}
