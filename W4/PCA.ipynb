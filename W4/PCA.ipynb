{
 "cells": [
  {
   "cell_type": "code",
   "execution_count": 140,
   "metadata": {
    "collapsed": true
   },
   "outputs": [],
   "source": [
    "import pandas as pd\n",
    "import numpy as np\n",
    "import matplotlib.pyplot as plt\n",
    "\n",
    "%matplotlib inline\n",
    "\n",
    "plt.style.use('ggplot')\n",
    "plt.rcParams['figure.figsize'] = (12,5)"
   ]
  },
  {
   "cell_type": "code",
   "execution_count": 141,
   "metadata": {
    "collapsed": true
   },
   "outputs": [],
   "source": [
    "df_wine = pd.read_csv('winequality-red.csv', sep=';')"
   ]
  },
  {
   "cell_type": "code",
   "execution_count": 142,
   "metadata": {
    "collapsed": true
   },
   "outputs": [],
   "source": [
    "df_wine.loc[:, 'quality_cat'] = (df_wine.quality > 5).astype(int)\n",
    "df_wine = df_wine.drop('quality', axis=1)"
   ]
  },
  {
   "cell_type": "code",
   "execution_count": 143,
   "metadata": {
    "collapsed": true
   },
   "outputs": [],
   "source": [
    "X = df_wine.iloc[:, :-1].values\n",
    "y = df_wine.iloc[:, -1].values"
   ]
  },
  {
   "cell_type": "code",
   "execution_count": 144,
   "metadata": {},
   "outputs": [
    {
     "data": {
      "text/html": [
       "<div>\n",
       "<style>\n",
       "    .dataframe thead tr:only-child th {\n",
       "        text-align: right;\n",
       "    }\n",
       "\n",
       "    .dataframe thead th {\n",
       "        text-align: left;\n",
       "    }\n",
       "\n",
       "    .dataframe tbody tr th {\n",
       "        vertical-align: top;\n",
       "    }\n",
       "</style>\n",
       "<table border=\"1\" class=\"dataframe\">\n",
       "  <thead>\n",
       "    <tr style=\"text-align: right;\">\n",
       "      <th></th>\n",
       "      <th>fixed acidity</th>\n",
       "      <th>volatile acidity</th>\n",
       "      <th>citric acid</th>\n",
       "      <th>residual sugar</th>\n",
       "      <th>chlorides</th>\n",
       "      <th>free sulfur dioxide</th>\n",
       "      <th>total sulfur dioxide</th>\n",
       "      <th>density</th>\n",
       "      <th>pH</th>\n",
       "      <th>sulphates</th>\n",
       "      <th>alcohol</th>\n",
       "      <th>quality_cat</th>\n",
       "    </tr>\n",
       "  </thead>\n",
       "  <tbody>\n",
       "    <tr>\n",
       "      <th>0</th>\n",
       "      <td>7.4</td>\n",
       "      <td>0.70</td>\n",
       "      <td>0.00</td>\n",
       "      <td>1.9</td>\n",
       "      <td>0.076</td>\n",
       "      <td>11.0</td>\n",
       "      <td>34.0</td>\n",
       "      <td>0.9978</td>\n",
       "      <td>3.51</td>\n",
       "      <td>0.56</td>\n",
       "      <td>9.4</td>\n",
       "      <td>0</td>\n",
       "    </tr>\n",
       "    <tr>\n",
       "      <th>1</th>\n",
       "      <td>7.8</td>\n",
       "      <td>0.88</td>\n",
       "      <td>0.00</td>\n",
       "      <td>2.6</td>\n",
       "      <td>0.098</td>\n",
       "      <td>25.0</td>\n",
       "      <td>67.0</td>\n",
       "      <td>0.9968</td>\n",
       "      <td>3.20</td>\n",
       "      <td>0.68</td>\n",
       "      <td>9.8</td>\n",
       "      <td>0</td>\n",
       "    </tr>\n",
       "    <tr>\n",
       "      <th>2</th>\n",
       "      <td>7.8</td>\n",
       "      <td>0.76</td>\n",
       "      <td>0.04</td>\n",
       "      <td>2.3</td>\n",
       "      <td>0.092</td>\n",
       "      <td>15.0</td>\n",
       "      <td>54.0</td>\n",
       "      <td>0.9970</td>\n",
       "      <td>3.26</td>\n",
       "      <td>0.65</td>\n",
       "      <td>9.8</td>\n",
       "      <td>0</td>\n",
       "    </tr>\n",
       "    <tr>\n",
       "      <th>3</th>\n",
       "      <td>11.2</td>\n",
       "      <td>0.28</td>\n",
       "      <td>0.56</td>\n",
       "      <td>1.9</td>\n",
       "      <td>0.075</td>\n",
       "      <td>17.0</td>\n",
       "      <td>60.0</td>\n",
       "      <td>0.9980</td>\n",
       "      <td>3.16</td>\n",
       "      <td>0.58</td>\n",
       "      <td>9.8</td>\n",
       "      <td>1</td>\n",
       "    </tr>\n",
       "    <tr>\n",
       "      <th>4</th>\n",
       "      <td>7.4</td>\n",
       "      <td>0.70</td>\n",
       "      <td>0.00</td>\n",
       "      <td>1.9</td>\n",
       "      <td>0.076</td>\n",
       "      <td>11.0</td>\n",
       "      <td>34.0</td>\n",
       "      <td>0.9978</td>\n",
       "      <td>3.51</td>\n",
       "      <td>0.56</td>\n",
       "      <td>9.4</td>\n",
       "      <td>0</td>\n",
       "    </tr>\n",
       "  </tbody>\n",
       "</table>\n",
       "</div>"
      ],
      "text/plain": [
       "   fixed acidity  volatile acidity  citric acid  residual sugar  chlorides  \\\n",
       "0            7.4              0.70         0.00             1.9      0.076   \n",
       "1            7.8              0.88         0.00             2.6      0.098   \n",
       "2            7.8              0.76         0.04             2.3      0.092   \n",
       "3           11.2              0.28         0.56             1.9      0.075   \n",
       "4            7.4              0.70         0.00             1.9      0.076   \n",
       "\n",
       "   free sulfur dioxide  total sulfur dioxide  density    pH  sulphates  \\\n",
       "0                 11.0                  34.0   0.9978  3.51       0.56   \n",
       "1                 25.0                  67.0   0.9968  3.20       0.68   \n",
       "2                 15.0                  54.0   0.9970  3.26       0.65   \n",
       "3                 17.0                  60.0   0.9980  3.16       0.58   \n",
       "4                 11.0                  34.0   0.9978  3.51       0.56   \n",
       "\n",
       "   alcohol  quality_cat  \n",
       "0      9.4            0  \n",
       "1      9.8            0  \n",
       "2      9.8            0  \n",
       "3      9.8            1  \n",
       "4      9.4            0  "
      ]
     },
     "execution_count": 144,
     "metadata": {},
     "output_type": "execute_result"
    }
   ],
   "source": [
    "df_wine.head()"
   ]
  },
  {
   "cell_type": "markdown",
   "metadata": {},
   "source": [
    "## PCA разными способами"
   ]
  },
  {
   "cell_type": "code",
   "execution_count": 145,
   "metadata": {
    "collapsed": true
   },
   "outputs": [],
   "source": [
    "from sklearn.decomposition import PCA"
   ]
  },
  {
   "cell_type": "markdown",
   "metadata": {},
   "source": [
    "### Через sklearn"
   ]
  },
  {
   "cell_type": "code",
   "execution_count": 146,
   "metadata": {
    "collapsed": true
   },
   "outputs": [],
   "source": [
    "pca = PCA(n_components=6)"
   ]
  },
  {
   "cell_type": "code",
   "execution_count": 147,
   "metadata": {},
   "outputs": [
    {
     "data": {
      "text/plain": [
       "PCA(copy=True, iterated_power='auto', n_components=6, random_state=None,\n",
       "  svd_solver='auto', tol=0.0, whiten=False)"
      ]
     },
     "execution_count": 147,
     "metadata": {},
     "output_type": "execute_result"
    }
   ],
   "source": [
    "pca.fit(X)"
   ]
  },
  {
   "cell_type": "code",
   "execution_count": 148,
   "metadata": {
    "collapsed": true
   },
   "outputs": [],
   "source": [
    "Z = pca.transform(X)"
   ]
  },
  {
   "cell_type": "code",
   "execution_count": 149,
   "metadata": {},
   "outputs": [
    {
     "data": {
      "text/plain": [
       "(1599, 6)"
      ]
     },
     "execution_count": 149,
     "metadata": {},
     "output_type": "execute_result"
    }
   ],
   "source": [
    "Z.shape"
   ]
  },
  {
   "cell_type": "code",
   "execution_count": 151,
   "metadata": {},
   "outputs": [
    {
     "data": {
      "text/plain": [
       "(6, 11)"
      ]
     },
     "execution_count": 151,
     "metadata": {},
     "output_type": "execute_result"
    }
   ],
   "source": [
    "pca.components_.shape"
   ]
  },
  {
   "cell_type": "code",
   "execution_count": 154,
   "metadata": {
    "collapsed": true
   },
   "outputs": [],
   "source": [
    "X_ = X - X.mean(axis=0)"
   ]
  },
  {
   "cell_type": "code",
   "execution_count": 155,
   "metadata": {},
   "outputs": [
    {
     "data": {
      "text/plain": [
       "array([[ -1.32249050e+01,  -2.02389981e+00,  -1.12682053e+00,\n",
       "         -3.99233183e-01,  -1.08538902e+00,  -1.98017553e-01],\n",
       "       [  2.20377236e+01,   4.40832155e+00,  -3.10377987e-01,\n",
       "         -1.99937740e-01,  -5.57109394e-01,  -3.01324964e-01],\n",
       "       [  7.16267333e+00,  -2.50146086e+00,  -5.81868296e-01,\n",
       "         -2.19069278e-01,  -5.52933551e-01,  -2.05113668e-01],\n",
       "       ..., \n",
       "       [ -3.43135351e+00,   1.42712435e+01,  -1.75071927e+00,\n",
       "          1.74652190e-01,   2.36270522e-01,   8.95128040e-02],\n",
       "       [  1.13287834e+00,   1.63161673e+01,  -2.13441396e+00,\n",
       "         -2.35387962e-01,  -5.19027681e-01,   1.55484011e-02],\n",
       "       [ -3.87437660e+00,   3.12634754e+00,  -1.87414925e+00,\n",
       "          1.70067390e+00,   1.04329744e-01,   4.00244077e-01]])"
      ]
     },
     "execution_count": 155,
     "metadata": {},
     "output_type": "execute_result"
    }
   ],
   "source": [
    "X_.dot(pca.components_.T)"
   ]
  },
  {
   "cell_type": "code",
   "execution_count": 157,
   "metadata": {},
   "outputs": [
    {
     "data": {
      "text/plain": [
       "array([[-13.22490501,  -2.02389981,  -1.12682053,  -0.39923318,\n",
       "         -1.08538902,  -0.19801755],\n",
       "       [ 22.03772361,   4.40832155,  -0.31037799,  -0.19993774,\n",
       "         -0.55710939,  -0.30132496],\n",
       "       [  7.16267333,  -2.50146086,  -0.5818683 ,  -0.21906928,\n",
       "         -0.55293355,  -0.20511367],\n",
       "       [ 13.43006283,  -1.95112215,   2.63403954,  -1.5740594 ,\n",
       "         -0.06380573,   0.08909173],\n",
       "       [-13.22490501,  -2.02389981,  -1.12682053,  -0.39923318,\n",
       "         -1.08538902,  -0.19801755],\n",
       "       [ -6.93400027,  -1.38790176,  -1.12127705,  -0.56009974,\n",
       "         -1.01986846,  -0.1768873 ],\n",
       "       [ 12.03682832,  -3.61177553,  -0.67163691,  -1.00390299,\n",
       "         -0.75505874,  -0.17925554],\n",
       "       [-25.04255804,   4.72607199,  -1.33781652,  -0.94957702,\n",
       "         -0.552435  ,  -0.21395213],\n",
       "       [-29.2756982 ,  -0.47905559,  -0.72624845,  -0.28935942,\n",
       "         -1.11137314,  -0.10349532],\n",
       "       [ 54.46316749, -10.99931637,   0.16155938,   3.34519729,\n",
       "         -0.06094772,   0.17318775]])"
      ]
     },
     "execution_count": 157,
     "metadata": {},
     "output_type": "execute_result"
    }
   ],
   "source": [
    "Z[:10]"
   ]
  },
  {
   "cell_type": "code",
   "execution_count": 159,
   "metadata": {},
   "outputs": [
    {
     "data": {
      "text/plain": [
       "(6,)"
      ]
     },
     "execution_count": 159,
     "metadata": {},
     "output_type": "execute_result"
    }
   ],
   "source": [
    "pca.explained_variance_ratio_.shape"
   ]
  },
  {
   "cell_type": "markdown",
   "metadata": {},
   "source": [
    "### Через SVD"
   ]
  },
  {
   "cell_type": "code",
   "execution_count": 160,
   "metadata": {
    "collapsed": true
   },
   "outputs": [],
   "source": [
    "from numpy.linalg import svd"
   ]
  },
  {
   "cell_type": "code",
   "execution_count": 161,
   "metadata": {
    "collapsed": true
   },
   "outputs": [],
   "source": [
    "u, s, vt = svd(X_)"
   ]
  },
  {
   "cell_type": "code",
   "execution_count": 162,
   "metadata": {},
   "outputs": [
    {
     "data": {
      "text/plain": [
       "(1599, 1599)"
      ]
     },
     "execution_count": 162,
     "metadata": {},
     "output_type": "execute_result"
    }
   ],
   "source": [
    "u.shape"
   ]
  },
  {
   "cell_type": "code",
   "execution_count": 163,
   "metadata": {},
   "outputs": [
    {
     "data": {
      "text/plain": [
       "(11,)"
      ]
     },
     "execution_count": 163,
     "metadata": {},
     "output_type": "execute_result"
    }
   ],
   "source": [
    "s.shape"
   ]
  },
  {
   "cell_type": "code",
   "execution_count": 165,
   "metadata": {},
   "outputs": [
    {
     "data": {
      "text/plain": [
       "array([[ -6.13247431e-03,   3.84465551e-04,   1.70902595e-04,\n",
       "          8.64894648e-03,   6.37307290e-05,   2.18857434e-01,\n",
       "          9.75678369e-01,   3.72498542e-06,  -2.68008619e-04,\n",
       "          2.23381730e-04,  -6.35846721e-03],\n",
       "       [ -2.38994985e-02,  -2.00966661e-03,  -3.03480788e-03,\n",
       "          1.11348551e-02,  -2.36654751e-04,   9.75265982e-01,\n",
       "         -2.18916841e-01,  -2.49998510e-05,   3.27182194e-03,\n",
       "          6.18926046e-04,   1.45642451e-02],\n",
       "       [  9.53135980e-01,  -2.51315387e-02,   7.37082746e-02,\n",
       "          2.80913620e-01,   2.94578815e-03,   2.08968395e-02,\n",
       "         -1.52685886e-03,   7.76139600e-04,  -5.86305467e-02,\n",
       "          1.75252442e-02,  -4.85991164e-02],\n",
       "       [ -2.65092214e-01,   7.27374987e-03,  -9.83215158e-03,\n",
       "          9.43177990e-01,  -6.45262673e-04,  -2.11894371e-02,\n",
       "         -3.97992967e-03,   5.52088341e-05,   2.05779719e-02,\n",
       "         -7.19926307e-03,   1.97613982e-01],\n",
       "       [  9.81476468e-02,  -4.11570558e-02,   4.14815020e-02,\n",
       "         -1.76626862e-01,  -9.47985067e-03,  -7.86843454e-03,\n",
       "          1.03231630e-02,  -8.33972282e-04,   1.26215966e-02,\n",
       "          2.35852364e-02,   9.77128836e-01],\n",
       "       [ -7.93123729e-02,  -6.89241790e-01,   5.04044257e-01,\n",
       "          5.76573957e-03,   5.70159846e-02,  -1.05989214e-03,\n",
       "         -6.14340167e-04,  -4.67157195e-04,  -1.42001678e-01,\n",
       "          4.88427356e-01,  -5.08246586e-02]])"
      ]
     },
     "execution_count": 165,
     "metadata": {},
     "output_type": "execute_result"
    }
   ],
   "source": [
    "pca.components_"
   ]
  },
  {
   "cell_type": "code",
   "execution_count": 166,
   "metadata": {},
   "outputs": [],
   "source": [
    "v = vt[:6, :].T"
   ]
  },
  {
   "cell_type": "code",
   "execution_count": 167,
   "metadata": {},
   "outputs": [
    {
     "data": {
      "text/plain": [
       "array([[  1.32249050e+01,  -2.02389981e+00,   1.12682053e+00,\n",
       "          3.99233183e-01,   1.08538902e+00,   1.98017553e-01],\n",
       "       [ -2.20377236e+01,   4.40832155e+00,   3.10377987e-01,\n",
       "          1.99937740e-01,   5.57109394e-01,   3.01324964e-01],\n",
       "       [ -7.16267333e+00,  -2.50146086e+00,   5.81868296e-01,\n",
       "          2.19069278e-01,   5.52933551e-01,   2.05113668e-01],\n",
       "       ..., \n",
       "       [  3.43135351e+00,   1.42712435e+01,   1.75071927e+00,\n",
       "         -1.74652190e-01,  -2.36270522e-01,  -8.95128040e-02],\n",
       "       [ -1.13287834e+00,   1.63161673e+01,   2.13441396e+00,\n",
       "          2.35387962e-01,   5.19027681e-01,  -1.55484011e-02],\n",
       "       [  3.87437660e+00,   3.12634754e+00,   1.87414925e+00,\n",
       "         -1.70067390e+00,  -1.04329744e-01,  -4.00244077e-01]])"
      ]
     },
     "execution_count": 167,
     "metadata": {},
     "output_type": "execute_result"
    }
   ],
   "source": [
    "X_.dot(v)"
   ]
  },
  {
   "cell_type": "code",
   "execution_count": 168,
   "metadata": {},
   "outputs": [
    {
     "data": {
      "text/plain": [
       "array([[-13.22490501,  -2.02389981,  -1.12682053,  -0.39923318,\n",
       "         -1.08538902,  -0.19801755],\n",
       "       [ 22.03772361,   4.40832155,  -0.31037799,  -0.19993774,\n",
       "         -0.55710939,  -0.30132496],\n",
       "       [  7.16267333,  -2.50146086,  -0.5818683 ,  -0.21906928,\n",
       "         -0.55293355,  -0.20511367],\n",
       "       [ 13.43006283,  -1.95112215,   2.63403954,  -1.5740594 ,\n",
       "         -0.06380573,   0.08909173],\n",
       "       [-13.22490501,  -2.02389981,  -1.12682053,  -0.39923318,\n",
       "         -1.08538902,  -0.19801755],\n",
       "       [ -6.93400027,  -1.38790176,  -1.12127705,  -0.56009974,\n",
       "         -1.01986846,  -0.1768873 ],\n",
       "       [ 12.03682832,  -3.61177553,  -0.67163691,  -1.00390299,\n",
       "         -0.75505874,  -0.17925554],\n",
       "       [-25.04255804,   4.72607199,  -1.33781652,  -0.94957702,\n",
       "         -0.552435  ,  -0.21395213],\n",
       "       [-29.2756982 ,  -0.47905559,  -0.72624845,  -0.28935942,\n",
       "         -1.11137314,  -0.10349532],\n",
       "       [ 54.46316749, -10.99931637,   0.16155938,   3.34519729,\n",
       "         -0.06094772,   0.17318775]])"
      ]
     },
     "execution_count": 168,
     "metadata": {},
     "output_type": "execute_result"
    }
   ],
   "source": [
    "Z[:10]"
   ]
  },
  {
   "cell_type": "markdown",
   "metadata": {},
   "source": [
    "### Через eig"
   ]
  },
  {
   "cell_type": "code",
   "execution_count": 169,
   "metadata": {
    "collapsed": true
   },
   "outputs": [],
   "source": [
    "from numpy.linalg import eig"
   ]
  },
  {
   "cell_type": "code",
   "execution_count": 170,
   "metadata": {
    "collapsed": true
   },
   "outputs": [],
   "source": [
    "C = X_.T.dot(X_)"
   ]
  },
  {
   "cell_type": "code",
   "execution_count": 171,
   "metadata": {
    "collapsed": true
   },
   "outputs": [],
   "source": [
    "lamd, W = eig(C)"
   ]
  },
  {
   "cell_type": "markdown",
   "metadata": {},
   "source": [
    "## Влияние количества компонент на качество"
   ]
  },
  {
   "cell_type": "code",
   "execution_count": 174,
   "metadata": {
    "collapsed": true
   },
   "outputs": [],
   "source": [
    "from sklearn.linear_model import LogisticRegression\n",
    "from sklearn.pipeline import Pipeline\n",
    "from sklearn.preprocessing import StandardScaler\n",
    "from sklearn.model_selection import StratifiedKFold, cross_val_score"
   ]
  },
  {
   "cell_type": "code",
   "execution_count": 175,
   "metadata": {
    "collapsed": true
   },
   "outputs": [],
   "source": [
    "model_baseline = Pipeline([\n",
    "    ('scaler', StandardScaler()),\n",
    "    ('clf', LogisticRegression())\n",
    "])"
   ]
  },
  {
   "cell_type": "code",
   "execution_count": 176,
   "metadata": {
    "collapsed": true
   },
   "outputs": [],
   "source": [
    "cv = StratifiedKFold(n_splits=5, shuffle=True, random_state=123)"
   ]
  },
  {
   "cell_type": "code",
   "execution_count": 177,
   "metadata": {},
   "outputs": [],
   "source": [
    "base_score = cross_val_score(model_baseline, X, y, scoring='accuracy', cv=cv).mean()"
   ]
  },
  {
   "cell_type": "code",
   "execution_count": 178,
   "metadata": {},
   "outputs": [
    {
     "data": {
      "text/plain": [
       "0.74546434169278997"
      ]
     },
     "execution_count": 178,
     "metadata": {},
     "output_type": "execute_result"
    }
   ],
   "source": [
    "base_score"
   ]
  },
  {
   "cell_type": "code",
   "execution_count": 179,
   "metadata": {
    "collapsed": true
   },
   "outputs": [],
   "source": [
    "k = range(1, 12)\n",
    "scores = []\n",
    "\n",
    "for n in k:\n",
    "    model = Pipeline([\n",
    "    ('scaler', StandardScaler()),\n",
    "    ('pca', PCA(n_components=n)),\n",
    "    ('clf', LogisticRegression())\n",
    "])\n",
    "    scores.append(cross_val_score(model, X, y, scoring='accuracy', cv=cv).mean())"
   ]
  },
  {
   "cell_type": "code",
   "execution_count": 181,
   "metadata": {},
   "outputs": [
    {
     "data": {
      "text/plain": [
       "<matplotlib.collections.LineCollection at 0x1a15b80c10>"
      ]
     },
     "execution_count": 181,
     "metadata": {},
     "output_type": "execute_result"
    },
    {
     "data": {
      "image/png": "[encoded data removed]",
      "text/plain": [
       "<matplotlib.figure.Figure at 0x1a15b80b10>"
      ]
     },
     "metadata": {},
     "output_type": "display_data"
    }
   ],
   "source": [
    "plt.plot(k, scores)\n",
    "plt.hlines(base_score, 1, 12)"
   ]
  },
  {
   "cell_type": "code",
   "execution_count": null,
   "metadata": {
    "collapsed": true
   },
   "outputs": [],
   "source": []
  }
 ],
 "metadata": {
  "anaconda-cloud": {},
  "kernelspec": {
   "display_name": "Python [conda root]",
   "language": "python",
   "name": "conda-root-py"
  },
  "language_info": {
   "codemirror_mode": {
    "name": "ipython",
    "version": 2
   },
   "file_extension": ".py",
   "mimetype": "text/x-python",
   "name": "python",
   "nbconvert_exporter": "python",
   "pygments_lexer": "ipython2",
   "version": "2.7.14"
  },
  "toc": {
   "colors": {
    "hover_highlight": "#DAA520",
    "navigate_num": "#000000",
    "navigate_text": "#333333",
    "running_highlight": "#FF0000",
    "selected_highlight": "#FFD700",
    "sidebar_border": "#EEEEEE",
    "wrapper_background": "#FFFFFF"
   },
   "moveMenuLeft": true,
   "nav_menu": {
    "height": "106px",
    "width": "253px"
   },
   "navigate_menu": true,
   "number_sections": true,
   "sideBar": true,
   "threshold": 4,
   "toc_cell": false,
   "toc_section_display": "block",
   "toc_window_display": false,
   "widenNotebook": false
  }
 },
 "nbformat": 4,
 "nbformat_minor": 2
}
