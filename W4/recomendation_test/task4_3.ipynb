{
 "cells": [
  {
   "cell_type": "markdown",
   "metadata": {},
   "source": [
    "# Введение в рекомендательные системы\n",
    "\n",
    "## Коллаборативная фильтрация"
   ]
  },
  {
   "cell_type": "markdown",
   "metadata": {},
   "source": [
    "В этом задании мы закончим имплементацию коллаборативной фильтрации.\n",
    "\n",
    "Для этого - выполним действия, необходимые для создания матрицы рейтингов"
   ]
  },
  {
   "cell_type": "code",
   "execution_count": 1,
   "metadata": {},
   "outputs": [],
   "source": [
    "import warnings\n",
    "warnings.filterwarnings('ignore')"
   ]
  },
  {
   "cell_type": "code",
   "execution_count": 2,
   "metadata": {},
   "outputs": [],
   "source": [
    "import os\n",
    "import numpy as np\n",
    "import pandas as pd\n",
    "import matplotlib.pyplot as plt\n",
    "from tqdm import tqdm_notebook\n",
    "\n",
    "%matplotlib inline\n",
    "\n",
    "plt.style.use('ggplot')\n",
    "plt.rcParams['figure.figsize'] = (12, 6)"
   ]
  },
  {
   "cell_type": "code",
   "execution_count": 3,
   "metadata": {},
   "outputs": [],
   "source": [
    "filepath = './data/user_ratedmovies.dat'\n",
    "df_rates = pd.read_csv(filepath, sep='\\t')"
   ]
  },
  {
   "cell_type": "code",
   "execution_count": 4,
   "metadata": {},
   "outputs": [],
   "source": [
    "filepath = './data/movies.dat'\n",
    "df_movies = pd.read_csv(filepath, sep='\\t', encoding='iso-8859-1')"
   ]
  },
  {
   "cell_type": "markdown",
   "metadata": {},
   "source": [
    "# Перекодируем ID фильмов и пользователей"
   ]
  },
  {
   "cell_type": "code",
   "execution_count": 5,
   "metadata": {},
   "outputs": [],
   "source": [
    "from sklearn.preprocessing import LabelEncoder"
   ]
  },
  {
   "cell_type": "code",
   "execution_count": 6,
   "metadata": {},
   "outputs": [],
   "source": [
    "enc_user = LabelEncoder()\n",
    "enc_mov = LabelEncoder()"
   ]
  },
  {
   "cell_type": "code",
   "execution_count": 7,
   "metadata": {},
   "outputs": [],
   "source": [
    "enc_user = enc_user.fit(df_rates.userID.values)\n",
    "enc_mov = enc_mov.fit(df_rates.movieID.values)"
   ]
  },
  {
   "cell_type": "code",
   "execution_count": 8,
   "metadata": {},
   "outputs": [],
   "source": [
    "idx = df_movies.loc[:, 'id'].isin(df_rates.movieID)\n",
    "df_movies = df_movies.loc[idx]"
   ]
  },
  {
   "cell_type": "code",
   "execution_count": 9,
   "metadata": {},
   "outputs": [],
   "source": [
    "df_rates.loc[:, 'userID'] = enc_user.transform(df_rates.loc[:, 'userID'].values)\n",
    "df_rates.loc[:, 'movieID'] = enc_mov.transform(df_rates.loc[:, 'movieID'].values)\n",
    "df_movies.loc[:, 'id'] = enc_mov.transform(df_movies.loc[:, 'id'].values)"
   ]
  },
  {
   "cell_type": "code",
   "execution_count": 22,
   "metadata": {},
   "outputs": [
    {
     "data": {
      "text/html": [
       "<div>\n",
       "<style scoped>\n",
       "    .dataframe tbody tr th:only-of-type {\n",
       "        vertical-align: middle;\n",
       "    }\n",
       "\n",
       "    .dataframe tbody tr th {\n",
       "        vertical-align: top;\n",
       "    }\n",
       "\n",
       "    .dataframe thead th {\n",
       "        text-align: right;\n",
       "    }\n",
       "</style>\n",
       "<table border=\"1\" class=\"dataframe\">\n",
       "  <thead>\n",
       "    <tr style=\"text-align: right;\">\n",
       "      <th></th>\n",
       "      <th>userID</th>\n",
       "      <th>movieID</th>\n",
       "      <th>rating</th>\n",
       "      <th>date_day</th>\n",
       "      <th>date_month</th>\n",
       "      <th>date_year</th>\n",
       "      <th>date_hour</th>\n",
       "      <th>date_minute</th>\n",
       "      <th>date_second</th>\n",
       "    </tr>\n",
       "  </thead>\n",
       "  <tbody>\n",
       "    <tr>\n",
       "      <td>0</td>\n",
       "      <td>0</td>\n",
       "      <td>2</td>\n",
       "      <td>1.0</td>\n",
       "      <td>29</td>\n",
       "      <td>10</td>\n",
       "      <td>2006</td>\n",
       "      <td>23</td>\n",
       "      <td>17</td>\n",
       "      <td>16</td>\n",
       "    </tr>\n",
       "    <tr>\n",
       "      <td>1</td>\n",
       "      <td>0</td>\n",
       "      <td>31</td>\n",
       "      <td>4.5</td>\n",
       "      <td>29</td>\n",
       "      <td>10</td>\n",
       "      <td>2006</td>\n",
       "      <td>23</td>\n",
       "      <td>23</td>\n",
       "      <td>44</td>\n",
       "    </tr>\n",
       "    <tr>\n",
       "      <td>2</td>\n",
       "      <td>0</td>\n",
       "      <td>105</td>\n",
       "      <td>4.0</td>\n",
       "      <td>29</td>\n",
       "      <td>10</td>\n",
       "      <td>2006</td>\n",
       "      <td>23</td>\n",
       "      <td>30</td>\n",
       "      <td>8</td>\n",
       "    </tr>\n",
       "    <tr>\n",
       "      <td>3</td>\n",
       "      <td>0</td>\n",
       "      <td>151</td>\n",
       "      <td>2.0</td>\n",
       "      <td>29</td>\n",
       "      <td>10</td>\n",
       "      <td>2006</td>\n",
       "      <td>23</td>\n",
       "      <td>16</td>\n",
       "      <td>52</td>\n",
       "    </tr>\n",
       "    <tr>\n",
       "      <td>4</td>\n",
       "      <td>0</td>\n",
       "      <td>154</td>\n",
       "      <td>4.0</td>\n",
       "      <td>29</td>\n",
       "      <td>10</td>\n",
       "      <td>2006</td>\n",
       "      <td>23</td>\n",
       "      <td>29</td>\n",
       "      <td>30</td>\n",
       "    </tr>\n",
       "  </tbody>\n",
       "</table>\n",
       "</div>"
      ],
      "text/plain": [
       "   userID  movieID  rating  date_day  date_month  date_year  date_hour  \\\n",
       "0       0        2     1.0        29          10       2006         23   \n",
       "1       0       31     4.5        29          10       2006         23   \n",
       "2       0      105     4.0        29          10       2006         23   \n",
       "3       0      151     2.0        29          10       2006         23   \n",
       "4       0      154     4.0        29          10       2006         23   \n",
       "\n",
       "   date_minute  date_second  \n",
       "0           17           16  \n",
       "1           23           44  \n",
       "2           30            8  \n",
       "3           16           52  \n",
       "4           29           30  "
      ]
     },
     "execution_count": 22,
     "metadata": {},
     "output_type": "execute_result"
    }
   ],
   "source": [
    "df_rates.head()"
   ]
  },
  {
   "cell_type": "code",
   "execution_count": 23,
   "metadata": {},
   "outputs": [
    {
     "data": {
      "text/html": [
       "<div>\n",
       "<style scoped>\n",
       "    .dataframe tbody tr th:only-of-type {\n",
       "        vertical-align: middle;\n",
       "    }\n",
       "\n",
       "    .dataframe tbody tr th {\n",
       "        vertical-align: top;\n",
       "    }\n",
       "\n",
       "    .dataframe thead th {\n",
       "        text-align: right;\n",
       "    }\n",
       "</style>\n",
       "<table border=\"1\" class=\"dataframe\">\n",
       "  <thead>\n",
       "    <tr style=\"text-align: right;\">\n",
       "      <th></th>\n",
       "      <th>id</th>\n",
       "      <th>title</th>\n",
       "      <th>imdbID</th>\n",
       "      <th>spanishTitle</th>\n",
       "      <th>imdbPictureURL</th>\n",
       "      <th>year</th>\n",
       "      <th>rtID</th>\n",
       "      <th>rtAllCriticsRating</th>\n",
       "      <th>rtAllCriticsNumReviews</th>\n",
       "      <th>rtAllCriticsNumFresh</th>\n",
       "      <th>...</th>\n",
       "      <th>rtAllCriticsScore</th>\n",
       "      <th>rtTopCriticsRating</th>\n",
       "      <th>rtTopCriticsNumReviews</th>\n",
       "      <th>rtTopCriticsNumFresh</th>\n",
       "      <th>rtTopCriticsNumRotten</th>\n",
       "      <th>rtTopCriticsScore</th>\n",
       "      <th>rtAudienceRating</th>\n",
       "      <th>rtAudienceNumRatings</th>\n",
       "      <th>rtAudienceScore</th>\n",
       "      <th>rtPictureURL</th>\n",
       "    </tr>\n",
       "  </thead>\n",
       "  <tbody>\n",
       "    <tr>\n",
       "      <td>0</td>\n",
       "      <td>0</td>\n",
       "      <td>Toy story</td>\n",
       "      <td>114709</td>\n",
       "      <td>Toy story (juguetes)</td>\n",
       "      <td>http://ia.media-imdb.com/images/M/MV5BMTMwNDU0...</td>\n",
       "      <td>1995</td>\n",
       "      <td>toy_story</td>\n",
       "      <td>9</td>\n",
       "      <td>73</td>\n",
       "      <td>73</td>\n",
       "      <td>...</td>\n",
       "      <td>100</td>\n",
       "      <td>8.5</td>\n",
       "      <td>17</td>\n",
       "      <td>17</td>\n",
       "      <td>0</td>\n",
       "      <td>100</td>\n",
       "      <td>3.7</td>\n",
       "      <td>102338</td>\n",
       "      <td>81</td>\n",
       "      <td>http://content7.flixster.com/movie/10/93/63/10...</td>\n",
       "    </tr>\n",
       "    <tr>\n",
       "      <td>1</td>\n",
       "      <td>1</td>\n",
       "      <td>Jumanji</td>\n",
       "      <td>113497</td>\n",
       "      <td>Jumanji</td>\n",
       "      <td>http://ia.media-imdb.com/images/M/MV5BMzM5NjE1...</td>\n",
       "      <td>1995</td>\n",
       "      <td>1068044-jumanji</td>\n",
       "      <td>5.6</td>\n",
       "      <td>28</td>\n",
       "      <td>13</td>\n",
       "      <td>...</td>\n",
       "      <td>46</td>\n",
       "      <td>5.8</td>\n",
       "      <td>5</td>\n",
       "      <td>2</td>\n",
       "      <td>3</td>\n",
       "      <td>40</td>\n",
       "      <td>3.2</td>\n",
       "      <td>44587</td>\n",
       "      <td>61</td>\n",
       "      <td>http://content8.flixster.com/movie/56/79/73/56...</td>\n",
       "    </tr>\n",
       "    <tr>\n",
       "      <td>2</td>\n",
       "      <td>2</td>\n",
       "      <td>Grumpy Old Men</td>\n",
       "      <td>107050</td>\n",
       "      <td>Dos viejos gruñones</td>\n",
       "      <td>http://ia.media-imdb.com/images/M/MV5BMTI5MTgy...</td>\n",
       "      <td>1993</td>\n",
       "      <td>grumpy_old_men</td>\n",
       "      <td>5.9</td>\n",
       "      <td>36</td>\n",
       "      <td>24</td>\n",
       "      <td>...</td>\n",
       "      <td>66</td>\n",
       "      <td>7</td>\n",
       "      <td>6</td>\n",
       "      <td>5</td>\n",
       "      <td>1</td>\n",
       "      <td>83</td>\n",
       "      <td>3.2</td>\n",
       "      <td>10489</td>\n",
       "      <td>66</td>\n",
       "      <td>http://content6.flixster.com/movie/25/60/25602...</td>\n",
       "    </tr>\n",
       "    <tr>\n",
       "      <td>3</td>\n",
       "      <td>3</td>\n",
       "      <td>Waiting to Exhale</td>\n",
       "      <td>114885</td>\n",
       "      <td>Esperando un respiro</td>\n",
       "      <td>http://ia.media-imdb.com/images/M/MV5BMTczMTMy...</td>\n",
       "      <td>1995</td>\n",
       "      <td>waiting_to_exhale</td>\n",
       "      <td>5.6</td>\n",
       "      <td>25</td>\n",
       "      <td>14</td>\n",
       "      <td>...</td>\n",
       "      <td>56</td>\n",
       "      <td>5.5</td>\n",
       "      <td>11</td>\n",
       "      <td>5</td>\n",
       "      <td>6</td>\n",
       "      <td>45</td>\n",
       "      <td>3.3</td>\n",
       "      <td>5666</td>\n",
       "      <td>79</td>\n",
       "      <td>http://content9.flixster.com/movie/10/94/17/10...</td>\n",
       "    </tr>\n",
       "    <tr>\n",
       "      <td>4</td>\n",
       "      <td>4</td>\n",
       "      <td>Father of the Bride Part II</td>\n",
       "      <td>113041</td>\n",
       "      <td>Vuelve el padre de la novia (Ahora también abu...</td>\n",
       "      <td>http://ia.media-imdb.com/images/M/MV5BMTg1NDc2...</td>\n",
       "      <td>1995</td>\n",
       "      <td>father_of_the_bride_part_ii</td>\n",
       "      <td>5.3</td>\n",
       "      <td>19</td>\n",
       "      <td>9</td>\n",
       "      <td>...</td>\n",
       "      <td>47</td>\n",
       "      <td>5.4</td>\n",
       "      <td>5</td>\n",
       "      <td>1</td>\n",
       "      <td>4</td>\n",
       "      <td>20</td>\n",
       "      <td>3</td>\n",
       "      <td>13761</td>\n",
       "      <td>64</td>\n",
       "      <td>http://content8.flixster.com/movie/25/54/25542...</td>\n",
       "    </tr>\n",
       "  </tbody>\n",
       "</table>\n",
       "<p>5 rows × 21 columns</p>\n",
       "</div>"
      ],
      "text/plain": [
       "   id                        title  imdbID  \\\n",
       "0   0                    Toy story  114709   \n",
       "1   1                      Jumanji  113497   \n",
       "2   2               Grumpy Old Men  107050   \n",
       "3   3            Waiting to Exhale  114885   \n",
       "4   4  Father of the Bride Part II  113041   \n",
       "\n",
       "                                        spanishTitle  \\\n",
       "0                               Toy story (juguetes)   \n",
       "1                                            Jumanji   \n",
       "2                                Dos viejos gruñones   \n",
       "3                               Esperando un respiro   \n",
       "4  Vuelve el padre de la novia (Ahora también abu...   \n",
       "\n",
       "                                      imdbPictureURL  year  \\\n",
       "0  http://ia.media-imdb.com/images/M/MV5BMTMwNDU0...  1995   \n",
       "1  http://ia.media-imdb.com/images/M/MV5BMzM5NjE1...  1995   \n",
       "2  http://ia.media-imdb.com/images/M/MV5BMTI5MTgy...  1993   \n",
       "3  http://ia.media-imdb.com/images/M/MV5BMTczMTMy...  1995   \n",
       "4  http://ia.media-imdb.com/images/M/MV5BMTg1NDc2...  1995   \n",
       "\n",
       "                          rtID rtAllCriticsRating rtAllCriticsNumReviews  \\\n",
       "0                    toy_story                  9                     73   \n",
       "1              1068044-jumanji                5.6                     28   \n",
       "2               grumpy_old_men                5.9                     36   \n",
       "3            waiting_to_exhale                5.6                     25   \n",
       "4  father_of_the_bride_part_ii                5.3                     19   \n",
       "\n",
       "  rtAllCriticsNumFresh  ... rtAllCriticsScore rtTopCriticsRating  \\\n",
       "0                   73  ...               100                8.5   \n",
       "1                   13  ...                46                5.8   \n",
       "2                   24  ...                66                  7   \n",
       "3                   14  ...                56                5.5   \n",
       "4                    9  ...                47                5.4   \n",
       "\n",
       "  rtTopCriticsNumReviews rtTopCriticsNumFresh rtTopCriticsNumRotten  \\\n",
       "0                     17                   17                     0   \n",
       "1                      5                    2                     3   \n",
       "2                      6                    5                     1   \n",
       "3                     11                    5                     6   \n",
       "4                      5                    1                     4   \n",
       "\n",
       "  rtTopCriticsScore rtAudienceRating rtAudienceNumRatings rtAudienceScore  \\\n",
       "0               100              3.7               102338              81   \n",
       "1                40              3.2                44587              61   \n",
       "2                83              3.2                10489              66   \n",
       "3                45              3.3                 5666              79   \n",
       "4                20                3                13761              64   \n",
       "\n",
       "                                        rtPictureURL  \n",
       "0  http://content7.flixster.com/movie/10/93/63/10...  \n",
       "1  http://content8.flixster.com/movie/56/79/73/56...  \n",
       "2  http://content6.flixster.com/movie/25/60/25602...  \n",
       "3  http://content9.flixster.com/movie/10/94/17/10...  \n",
       "4  http://content8.flixster.com/movie/25/54/25542...  \n",
       "\n",
       "[5 rows x 21 columns]"
      ]
     },
     "execution_count": 23,
     "metadata": {},
     "output_type": "execute_result"
    }
   ],
   "source": [
    "df_movies.head()"
   ]
  },
  {
   "cell_type": "markdown",
   "metadata": {},
   "source": [
    "## Матрица рейтингов"
   ]
  },
  {
   "cell_type": "code",
   "execution_count": 10,
   "metadata": {},
   "outputs": [],
   "source": [
    "from scipy.sparse import coo_matrix, csr_matrix"
   ]
  },
  {
   "cell_type": "code",
   "execution_count": 11,
   "metadata": {},
   "outputs": [],
   "source": [
    "R = coo_matrix((df_rates.rating.values, (df_rates.userID.values, df_rates.movieID.values)))"
   ]
  },
  {
   "cell_type": "code",
   "execution_count": 12,
   "metadata": {},
   "outputs": [
    {
     "data": {
      "text/plain": [
       "<2113x10109 sparse matrix of type '<class 'numpy.float64'>'\n",
       "\twith 855598 stored elements in COOrdinate format>"
      ]
     },
     "execution_count": 12,
     "metadata": {},
     "output_type": "execute_result"
    }
   ],
   "source": [
    "R"
   ]
  },
  {
   "cell_type": "markdown",
   "metadata": {},
   "source": [
    "## Похожесть между пользователями"
   ]
  },
  {
   "cell_type": "markdown",
   "metadata": {},
   "source": [
    "В дальнейшем нам будет удобнее работать с форматом `Compressed Sparse Row matrix`. К счастью переформатировать полученную нами матрицу можно одной командой:"
   ]
  },
  {
   "cell_type": "code",
   "execution_count": 13,
   "metadata": {
    "scrolled": true
   },
   "outputs": [],
   "source": [
    "R = R.tocsr()"
   ]
  },
  {
   "cell_type": "markdown",
   "metadata": {},
   "source": [
    "Теперь, например, рейтинги для первого пользователя можно достать так:"
   ]
  },
  {
   "cell_type": "code",
   "execution_count": 14,
   "metadata": {},
   "outputs": [
    {
     "data": {
      "text/plain": [
       "<1x10109 sparse matrix of type '<class 'numpy.float64'>'\n",
       "\twith 55 stored elements in Compressed Sparse Row format>"
      ]
     },
     "execution_count": 14,
     "metadata": {},
     "output_type": "execute_result"
    }
   ],
   "source": [
    "user_1 = R[0]\n",
    "user_1"
   ]
  },
  {
   "cell_type": "markdown",
   "metadata": {},
   "source": [
    "Так как вы возможно не работали с разреженным форматом матриц, устроим небольшой ликбез.\n",
    "\n",
    "Первым делом, надо понадобится вектор для другого пользователя:"
   ]
  },
  {
   "cell_type": "code",
   "execution_count": 15,
   "metadata": {},
   "outputs": [
    {
     "data": {
      "text/plain": [
       "<1x10109 sparse matrix of type '<class 'numpy.float64'>'\n",
       "\twith 468 stored elements in Compressed Sparse Row format>"
      ]
     },
     "execution_count": 15,
     "metadata": {},
     "output_type": "execute_result"
    }
   ],
   "source": [
    "user_2 = R[1]\n",
    "user_2"
   ]
  },
  {
   "cell_type": "markdown",
   "metadata": {},
   "source": [
    "Мы можем сравнивать элементы с 0"
   ]
  },
  {
   "cell_type": "code",
   "execution_count": 16,
   "metadata": {},
   "outputs": [
    {
     "data": {
      "text/plain": [
       "<1x10109 sparse matrix of type '<class 'numpy.bool_'>'\n",
       "\twith 55 stored elements in Compressed Sparse Row format>"
      ]
     },
     "execution_count": 16,
     "metadata": {},
     "output_type": "execute_result"
    }
   ],
   "source": [
    "user_1_rated = (user_1 != 0)\n",
    "user_1_rated"
   ]
  },
  {
   "cell_type": "markdown",
   "metadata": {},
   "source": [
    "Можем их \"индексировать\""
   ]
  },
  {
   "cell_type": "code",
   "execution_count": 17,
   "metadata": {},
   "outputs": [
    {
     "data": {
      "text/plain": [
       "matrix([[1. , 4.5, 4. , 2. , 4. , 4.5, 3.5, 5. , 3.5, 2. , 4. , 3. , 4.5,\n",
       "         0.5, 4.5, 4. , 3.5, 4.5, 4. , 2.5, 4. , 4. , 4. , 4.5, 2.5, 2. ,\n",
       "         1.5, 4. , 4. , 4.5, 3. , 3. , 4.5, 3.5, 4.5, 1.5, 3. , 3. , 3.5,\n",
       "         3.5, 3. , 2.5, 3.5, 4. , 0.5, 4. , 3.5, 4.5, 3.5, 4.5, 5. , 3.5,\n",
       "         3.5, 3.5, 4.5]])"
      ]
     },
     "execution_count": 17,
     "metadata": {},
     "output_type": "execute_result"
    }
   ],
   "source": [
    "user_1[user_1_rated]"
   ]
  },
  {
   "cell_type": "markdown",
   "metadata": {},
   "source": [
    "Можем считать количество ненулевых элементов"
   ]
  },
  {
   "cell_type": "code",
   "execution_count": 18,
   "metadata": {},
   "outputs": [
    {
     "data": {
      "text/plain": [
       "55"
      ]
     },
     "execution_count": 18,
     "metadata": {},
     "output_type": "execute_result"
    }
   ],
   "source": [
    "user_1.nnz"
   ]
  },
  {
   "cell_type": "markdown",
   "metadata": {},
   "source": [
    "Можем умножать 2 разреженных вектора поэлементно:"
   ]
  },
  {
   "cell_type": "code",
   "execution_count": 19,
   "metadata": {},
   "outputs": [
    {
     "data": {
      "text/plain": [
       "<1x10109 sparse matrix of type '<class 'numpy.float64'>'\n",
       "\twith 14 stored elements in Compressed Sparse Row format>"
      ]
     },
     "execution_count": 19,
     "metadata": {},
     "output_type": "execute_result"
    }
   ],
   "source": [
    "(user_1).multiply(user_2)"
   ]
  },
  {
   "cell_type": "markdown",
   "metadata": {},
   "source": [
    "и скалярно"
   ]
  },
  {
   "cell_type": "code",
   "execution_count": 20,
   "metadata": {},
   "outputs": [
    {
     "data": {
      "text/plain": [
       "216.75"
      ]
     },
     "execution_count": 20,
     "metadata": {},
     "output_type": "execute_result"
    }
   ],
   "source": [
    "user_1.dot(user_2.T)[0, 0]"
   ]
  },
  {
   "cell_type": "markdown",
   "metadata": {},
   "source": [
    "И превращать разреженную матрицу (вектор) в плотную"
   ]
  },
  {
   "cell_type": "code",
   "execution_count": 21,
   "metadata": {},
   "outputs": [
    {
     "data": {
      "text/plain": [
       "array([[0., 0., 1., ..., 0., 0., 0.]])"
      ]
     },
     "execution_count": 21,
     "metadata": {},
     "output_type": "execute_result"
    }
   ],
   "source": [
    "user_1_dense = user_1.toarray()\n",
    "user_1_dense"
   ]
  },
  {
   "cell_type": "markdown",
   "metadata": {},
   "source": [
    "Этого ликбеза вам будет должно быть достаточно, чтобы реализовать функцию расчета похожести между парой пользователей $u$ и $v$:\n",
    "\n",
    "$$ s_{uv} = \\frac{\\sum\\limits_{i \\in I_u\\cap I_v} R_{ui} R_{vi}}{\\sqrt{{\\sum\\limits_{i \\in I_u\\cap I_v}R_{ui}^2}}\\sqrt{{\\sum\\limits_{i \\in I_u\\cap I_v}R_{vi}^2}}}$$\n",
    "\n",
    "Давайте будем считать, что если количество фильмов которые пользователь $u$ и $v$ посмотрели вместе $<= 2$, то их косинусная мера равна 0.0\n"
   ]
  },
  {
   "cell_type": "markdown",
   "metadata": {},
   "source": [
    "### _Решение_"
   ]
  },
  {
   "cell_type": "code",
   "execution_count": 34,
   "metadata": {},
   "outputs": [],
   "source": [
    "from scipy.spatial.distance import cosine\n",
    "\n",
    "def cosine_similarity_pair_users(u, v):\n",
    "    idx = (u != 0).multiply(v != 0)\n",
    "    return 0 if idx.nnz < 3 else (1 - cosine(u[idx], v[idx]))"
   ]
  },
  {
   "cell_type": "code",
   "execution_count": 35,
   "metadata": {},
   "outputs": [
    {
     "name": "stdout",
     "output_type": "stream",
     "text": [
      "0.923\n"
     ]
    }
   ],
   "source": [
    "answer1 = round(cosine_similarity_pair_users(R[146], R[239]),3)\n",
    "print(answer1)"
   ]
  },
  {
   "cell_type": "markdown",
   "metadata": {},
   "source": [
    "Введите значение answer1 на странице https://www.coursera.org/learn/python-for-data-science/exam/fSPxW/sozdaniie-riekomiendatiel-noi-sistiemy"
   ]
  },
  {
   "cell_type": "markdown",
   "metadata": {},
   "source": [
    "## Функция нахождения пользователей, схожих с данным. "
   ]
  },
  {
   "cell_type": "markdown",
   "metadata": {},
   "source": [
    "Реализуйте функцию <font color = \"blue\">similar_users</font>(u, R, n_neigbours) которая принимает на входе\n",
    "* Индекс пользователя\n",
    "* Матрицу рейтингов\n",
    "* Количество ближайших соседей \n",
    "и возвращает отсортированный массив пользователей (сортировка по неубыванию), максимально похожих на данного. Для сортировки используйте np.argsort без параметров. (https://docs.scipy.org/doc/numpy/reference/generated/numpy.argsort.html) (Сам пользователь будет в этом списке на первом месте). Эту функцию вы сможете использовать далее. "
   ]
  },
  {
   "cell_type": "code",
   "execution_count": 42,
   "metadata": {},
   "outputs": [],
   "source": [
    "def similar_users(u, R, n_neigbours):\n",
    "    s = np.array([cosine_similarity_pair_users(R[u], R[v]) for v in range(R.shape[0])])\n",
    "    similar_users = np.argsort(s)[::-1]\n",
    "    return similar_users"
   ]
  },
  {
   "cell_type": "code",
   "execution_count": 51,
   "metadata": {},
   "outputs": [],
   "source": [
    "answer2 = np.array2string(similar_users(42, R, 10)).replace(' ','').replace('[','').replace(']','')"
   ]
  },
  {
   "cell_type": "code",
   "execution_count": 53,
   "metadata": {},
   "outputs": [],
   "source": [
    "answer2 = answer2[:29]"
   ]
  },
  {
   "cell_type": "code",
   "execution_count": 54,
   "metadata": {},
   "outputs": [
    {
     "data": {
      "text/plain": [
       "'42281633...63620931134'"
      ]
     },
     "execution_count": 54,
     "metadata": {},
     "output_type": "execute_result"
    }
   ],
   "source": [
    "answer2"
   ]
  },
  {
   "cell_type": "markdown",
   "metadata": {},
   "source": [
    "Введите значение answer2 без кавычек  на странице https://www.coursera.org/learn/python-for-data-science/exam/fSPxW/sozdaniie-riekomiendatiel-noi-sistiemy. Это будет строка из 29 символов, которая начинается на 42."
   ]
  },
  {
   "cell_type": "markdown",
   "metadata": {},
   "source": [
    "## Функция прогнозирования рейтинга"
   ]
  },
  {
   "cell_type": "markdown",
   "metadata": {},
   "source": [
    "Реализуйте функцию <font color = \"blue\">rate_items_user</font>(u, R, n_neigbours), которая принимает на входе:\n",
    "* Индекс пользователя\n",
    "* Матрицу рейтингов\n",
    "* Количество ближайших соседей <font color = \"red\">(Теперь обратите внимание, несмотря на то, что каждый пользователь - ближайший сосед самому себе, в расчетах он использоваться не должен)</font>\n",
    "\n",
    "и возвращает вектор с предсказанными рейтингами по всем фильмам для этого пользователя\n",
    "\n",
    "Для того, чтобы считать прогноз по рейтингу мы воспользуемся упрощенной формулой из лекции:\n",
    "\n",
    "$$ \\hat{R}_{ui} = \\frac{\\sum_{v \\in N(u)} s_{uv}R_{vi}}{\\sum_{v \\in N(u)} \\left| s_{uv}\\right|} $$\n"
   ]
  },
  {
   "cell_type": "markdown",
   "metadata": {},
   "source": [
    "### _Решение_"
   ]
  },
  {
   "cell_type": "code",
   "execution_count": 36,
   "metadata": {},
   "outputs": [],
   "source": [
    "def rate_items_user(u, R, n_neigbours=30):\n",
    "    predictions = csr_matrix((1, R.shape[1]))\n",
    "    cumsim = 0.0\n",
    "    num_predictions = csr_matrix((1, R.shape[1]))\n",
    "    s = np.array([cosine_similarity_pair_users(R[u], R[v]) for v in range(R.shape[0])])\n",
    "    similar_users = np.argsort(s)[::-1]\n",
    "    print(np.sort(s)[::-1])\n",
    "    for v in similar_users[:n_neigbours]:\n",
    "        if v == u:\n",
    "            continue\n",
    "        user_sim = s[v]\n",
    "        predictions += user_sim * R[v]\n",
    "        cumsim += np.abs(user_sim)\n",
    "    predictions /= cumsim\n",
    "    return predictions"
   ]
  },
  {
   "cell_type": "markdown",
   "metadata": {},
   "source": [
    "В качестве ответа к этому заданию верните 5 идентификаторов фильмов с наивысшим предсказанным рейтингом для пользователя с id 19 (20-я строчка в матрице рейтингов).\n",
    "\n",
    "* Для усреднения используйте 30 ближайших соседей\n",
    "* Среди этих 5-и фильмов не должно быть ранее просмотренных фильмов\n",
    "\n",
    "Т.е. предсказанные рейтинги можно получить так:\n",
    "R_hat = <font color = \"blue\">rate_items_user</font>(20, R, n_neigbours=30). При сортировке фильмов по рейтингу используйте функцию <font color = \"blue\">argsort </font> без параметров."
   ]
  },
  {
   "cell_type": "markdown",
   "metadata": {},
   "source": [
    "### _Решение_"
   ]
  },
  {
   "cell_type": "code",
   "execution_count": 41,
   "metadata": {},
   "outputs": [],
   "source": [
    "R_hat = rate_items_user(20, R, n_neigbours=30)"
   ]
  },
  {
   "cell_type": "code",
   "execution_count": 55,
   "metadata": {},
   "outputs": [
    {
     "data": {
      "text/html": [
       "<div>\n",
       "<style scoped>\n",
       "    .dataframe tbody tr th:only-of-type {\n",
       "        vertical-align: middle;\n",
       "    }\n",
       "\n",
       "    .dataframe tbody tr th {\n",
       "        vertical-align: top;\n",
       "    }\n",
       "\n",
       "    .dataframe thead th {\n",
       "        text-align: right;\n",
       "    }\n",
       "</style>\n",
       "<table border=\"1\" class=\"dataframe\">\n",
       "  <thead>\n",
       "    <tr style=\"text-align: right;\">\n",
       "      <th></th>\n",
       "      <th>rating</th>\n",
       "    </tr>\n",
       "  </thead>\n",
       "  <tbody>\n",
       "    <tr>\n",
       "      <td>0</td>\n",
       "      <td>1.049840</td>\n",
       "    </tr>\n",
       "    <tr>\n",
       "      <td>1</td>\n",
       "      <td>0.566403</td>\n",
       "    </tr>\n",
       "    <tr>\n",
       "      <td>2</td>\n",
       "      <td>0.099901</td>\n",
       "    </tr>\n",
       "    <tr>\n",
       "      <td>3</td>\n",
       "      <td>0.000000</td>\n",
       "    </tr>\n",
       "    <tr>\n",
       "      <td>4</td>\n",
       "      <td>0.000000</td>\n",
       "    </tr>\n",
       "    <tr>\n",
       "      <td>...</td>\n",
       "      <td>...</td>\n",
       "    </tr>\n",
       "    <tr>\n",
       "      <td>10104</td>\n",
       "      <td>0.000000</td>\n",
       "    </tr>\n",
       "    <tr>\n",
       "      <td>10105</td>\n",
       "      <td>0.000000</td>\n",
       "    </tr>\n",
       "    <tr>\n",
       "      <td>10106</td>\n",
       "      <td>0.000000</td>\n",
       "    </tr>\n",
       "    <tr>\n",
       "      <td>10107</td>\n",
       "      <td>0.000000</td>\n",
       "    </tr>\n",
       "    <tr>\n",
       "      <td>10108</td>\n",
       "      <td>0.000000</td>\n",
       "    </tr>\n",
       "  </tbody>\n",
       "</table>\n",
       "<p>10109 rows × 1 columns</p>\n",
       "</div>"
      ],
      "text/plain": [
       "         rating\n",
       "0      1.049840\n",
       "1      0.566403\n",
       "2      0.099901\n",
       "3      0.000000\n",
       "4      0.000000\n",
       "...         ...\n",
       "10104  0.000000\n",
       "10105  0.000000\n",
       "10106  0.000000\n",
       "10107  0.000000\n",
       "10108  0.000000\n",
       "\n",
       "[10109 rows x 1 columns]"
      ]
     },
     "execution_count": 55,
     "metadata": {},
     "output_type": "execute_result"
    }
   ],
   "source": [
    "R_hat"
   ]
  },
  {
   "cell_type": "markdown",
   "metadata": {},
   "source": [
    "## Генерация ответа"
   ]
  },
  {
   "cell_type": "code",
   "execution_count": 39,
   "metadata": {},
   "outputs": [],
   "source": [
    "answer3 = ', '.join(str(i) for i in R_hat)"
   ]
  },
  {
   "cell_type": "code",
   "execution_count": 40,
   "metadata": {},
   "outputs": [
    {
     "data": {
      "text/plain": [
       "'rating'"
      ]
     },
     "execution_count": 40,
     "metadata": {},
     "output_type": "execute_result"
    }
   ],
   "source": [
    "answer3"
   ]
  },
  {
   "cell_type": "markdown",
   "metadata": {},
   "source": [
    "Полученную строку введите на странице https://www.coursera.org/learn/python-for-data-science/exam/fSPxW/sozdaniie-riekomiendatiel-noi-sistiemy Формат ответа - строка вида \"X, X, X, X, X\", где X - идентификаторы. Вводить ответ следует без кавычек."
   ]
  },
  {
   "cell_type": "code",
   "execution_count": null,
   "metadata": {},
   "outputs": [],
   "source": []
  }
 ],
 "metadata": {
  "anaconda-cloud": {},
  "kernelspec": {
   "display_name": "Python 3",
   "language": "python",
   "name": "python3"
  },
  "language_info": {
   "codemirror_mode": {
    "name": "ipython",
    "version": 3
   },
   "file_extension": ".py",
   "mimetype": "text/x-python",
   "name": "python",
   "nbconvert_exporter": "python",
   "pygments_lexer": "ipython3",
   "version": "3.7.3"
  },
  "toc": {
   "base_numbering": 1,
   "nav_menu": {
    "height": "69px",
    "width": "253px"
   },
   "number_sections": true,
   "sideBar": true,
   "skip_h1_title": false,
   "title_cell": "Table of Contents",
   "title_sidebar": "Contents",
   "toc_cell": false,
   "toc_position": {},
   "toc_section_display": "block",
   "toc_window_display": false
  }
 },
 "nbformat": 4,
 "nbformat_minor": 2
}
